{
 "cells": [
  {
   "cell_type": "markdown",
   "metadata": {},
   "source": [
    "# numpy基本操作"
   ]
  },
  {
   "cell_type": "code",
   "execution_count": 1,
   "metadata": {},
   "outputs": [],
   "source": [
    "import numpy as np"
   ]
  },
  {
   "cell_type": "markdown",
   "metadata": {},
   "source": [
    "### ones和zeros"
   ]
  },
  {
   "cell_type": "code",
   "execution_count": 3,
   "metadata": {},
   "outputs": [
    {
     "data": {
      "text/plain": [
       "array([[1., 1., 1., 1.],\n",
       "       [1., 1., 1., 1.],\n",
       "       [1., 1., 1., 1.]])"
      ]
     },
     "execution_count": 3,
     "metadata": {},
     "output_type": "execute_result"
    }
   ],
   "source": [
    "np.ones([3, 4])"
   ]
  },
  {
   "cell_type": "code",
   "execution_count": 5,
   "metadata": {},
   "outputs": [
    {
     "data": {
      "text/plain": [
       "array([[0., 0., 0., 0., 0., 0.],\n",
       "       [0., 0., 0., 0., 0., 0.],\n",
       "       [0., 0., 0., 0., 0., 0.],\n",
       "       [0., 0., 0., 0., 0., 0.],\n",
       "       [0., 0., 0., 0., 0., 0.]])"
      ]
     },
     "execution_count": 5,
     "metadata": {},
     "output_type": "execute_result"
    }
   ],
   "source": [
    "np.zeros([5,6])"
   ]
  },
  {
   "cell_type": "markdown",
   "metadata": {},
   "source": [
    "### 从现有的数组创建"
   ]
  },
  {
   "cell_type": "code",
   "execution_count": 54,
   "metadata": {},
   "outputs": [],
   "source": [
    "a = np.array([[1,2,3], [4,5,6]])\n",
    "arr1 = np.array(a)\n",
    "arr2 = np.asarray(a)"
   ]
  },
  {
   "cell_type": "code",
   "execution_count": 21,
   "metadata": {},
   "outputs": [
    {
     "data": {
      "text/plain": [
       "array([[1, 2, 3],\n",
       "       [4, 5, 6]])"
      ]
     },
     "execution_count": 21,
     "metadata": {},
     "output_type": "execute_result"
    }
   ],
   "source": [
    "arr1"
   ]
  },
  {
   "cell_type": "code",
   "execution_count": 22,
   "metadata": {},
   "outputs": [
    {
     "data": {
      "text/plain": [
       "array([[1, 2, 3],\n",
       "       [4, 5, 6]])"
      ]
     },
     "execution_count": 22,
     "metadata": {},
     "output_type": "execute_result"
    }
   ],
   "source": [
    "arr2"
   ]
  },
  {
   "cell_type": "code",
   "execution_count": 56,
   "metadata": {},
   "outputs": [
    {
     "data": {
      "text/plain": [
       "array([[1, 2, 3],\n",
       "       [4, 5, 6]])"
      ]
     },
     "execution_count": 56,
     "metadata": {},
     "output_type": "execute_result"
    }
   ],
   "source": [
    "a[1] = 10\n",
    "arr1"
   ]
  },
  {
   "cell_type": "code",
   "execution_count": 57,
   "metadata": {},
   "outputs": [
    {
     "data": {
      "text/plain": [
       "array([[ 1,  2,  3],\n",
       "       [10, 10, 10]])"
      ]
     },
     "execution_count": 57,
     "metadata": {},
     "output_type": "execute_result"
    }
   ],
   "source": [
    "arr2"
   ]
  },
  {
   "cell_type": "markdown",
   "metadata": {},
   "source": [
    "### 创建固定范围的数组"
   ]
  },
  {
   "cell_type": "code",
   "execution_count": 58,
   "metadata": {},
   "outputs": [
    {
     "data": {
      "text/plain": [
       "array([  0,  11,  22,  33,  44,  55,  66,  77,  88, 100])"
      ]
     },
     "execution_count": 58,
     "metadata": {},
     "output_type": "execute_result"
    }
   ],
   "source": [
    "# 生成等间距的数组\n",
    "np.linspace(0, 100, 10, dtype=np.int32)"
   ]
  },
  {
   "cell_type": "code",
   "execution_count": 42,
   "metadata": {},
   "outputs": [
    {
     "data": {
      "text/plain": [
       "array([ 0, 10, 20, 30, 40, 50, 60, 70, 80, 90])"
      ]
     },
     "execution_count": 42,
     "metadata": {},
     "output_type": "execute_result"
    }
   ],
   "source": [
    "np.arange(0, 100, 10)"
   ]
  },
  {
   "cell_type": "markdown",
   "metadata": {},
   "source": [
    "## 随机数组"
   ]
  },
  {
   "cell_type": "markdown",
   "metadata": {},
   "source": [
    "### 均匀分布"
   ]
  },
  {
   "cell_type": "code",
   "execution_count": 60,
   "metadata": {},
   "outputs": [
    {
     "data": {
      "text/plain": [
       "array([0.77601633, 0.19645384, 0.68181496, 0.32255399, 0.00132971,\n",
       "       0.29576806, 0.38048334, 0.07502546, 0.16076087, 0.32938513])"
      ]
     },
     "execution_count": 60,
     "metadata": {},
     "output_type": "execute_result"
    }
   ],
   "source": [
    "np.random.rand(10)"
   ]
  },
  {
   "cell_type": "code",
   "execution_count": 64,
   "metadata": {},
   "outputs": [
    {
     "data": {
      "text/plain": [
       "3.5415472176020035"
      ]
     },
     "execution_count": 64,
     "metadata": {},
     "output_type": "execute_result"
    }
   ],
   "source": [
    "np.random.uniform(0, 10)"
   ]
  },
  {
   "cell_type": "code",
   "execution_count": 65,
   "metadata": {},
   "outputs": [
    {
     "data": {
      "text/plain": [
       "44"
      ]
     },
     "execution_count": 65,
     "metadata": {},
     "output_type": "execute_result"
    }
   ],
   "source": [
    "np.random.randint(100)"
   ]
  },
  {
   "cell_type": "markdown",
   "metadata": {},
   "source": [
    "### 正态分布"
   ]
  },
  {
   "cell_type": "code",
   "execution_count": 71,
   "metadata": {},
   "outputs": [
    {
     "data": {
      "text/plain": [
       "array([[1.69952443, 1.83446895, 2.02815889, 1.87355553, 1.86333956,\n",
       "        1.7712593 , 1.65718028, 1.35529684, 1.66532211, 1.64282223],\n",
       "       [1.8331425 , 1.79376152, 2.06184091, 2.1936504 , 1.73772523,\n",
       "        1.86951042, 2.00002273, 1.73579417, 1.55670121, 1.79666361],\n",
       "       [1.57261843, 1.86636978, 2.23721686, 1.74609211, 1.6943202 ,\n",
       "        1.69841604, 2.07723423, 1.75717356, 1.71138557, 1.72935644],\n",
       "       [1.86784382, 1.77045017, 2.09602879, 1.88579568, 1.54755032,\n",
       "        1.81948694, 1.98015253, 1.75697485, 1.59850899, 1.96599367],\n",
       "       [1.36881536, 1.65915342, 1.73138705, 2.01057923, 1.58329261,\n",
       "        1.78827719, 1.88199779, 1.44542758, 2.0284453 , 1.70135019],\n",
       "       [1.766135  , 1.7421059 , 2.01374408, 1.72282659, 1.68257306,\n",
       "        2.04635528, 1.05493868, 1.94526042, 1.72781431, 2.00692738],\n",
       "       [1.80443642, 1.54394366, 1.95784161, 1.92415926, 1.71727567,\n",
       "        1.66310482, 1.62502113, 1.51626697, 1.91258562, 1.54798507],\n",
       "       [1.47784286, 1.83938633, 1.4329465 , 1.86946197, 1.58495903,\n",
       "        1.62539252, 1.45926577, 2.07847262, 1.60913083, 1.98821268],\n",
       "       [1.75615517, 1.79559331, 1.51457533, 1.9089775 , 1.87396402,\n",
       "        1.53689953, 1.67628904, 1.89160232, 1.60240017, 1.64222853],\n",
       "       [1.55593706, 1.79734913, 1.67334961, 1.66622657, 1.60914258,\n",
       "        2.01969607, 1.86750567, 1.82122083, 1.58413668, 1.55765899]])"
      ]
     },
     "execution_count": 71,
     "metadata": {},
     "output_type": "execute_result"
    }
   ],
   "source": [
    "np.random.normal(1.75, 0.2, (10, 10))  # 平均值,标准差,数组维度"
   ]
  },
  {
   "cell_type": "markdown",
   "metadata": {},
   "source": [
    "### 随机生成500个股票两年的交易日涨幅数据"
   ]
  },
  {
   "cell_type": "code",
   "execution_count": 76,
   "metadata": {},
   "outputs": [
    {
     "data": {
      "text/plain": [
       "array([[ 1.13685039,  0.80023172, -0.60801559, ..., -0.63075734,\n",
       "         0.97467378, -0.62152671],\n",
       "       [ 0.13579919, -0.2425243 ,  0.3372829 , ...,  1.41007807,\n",
       "         1.62322335, -1.8608957 ],\n",
       "       [-1.36817236, -0.10731494,  0.88873304, ...,  0.15288297,\n",
       "         1.32760978, -0.6844779 ],\n",
       "       ...,\n",
       "       [-0.68862456,  0.08579655, -0.87796963, ...,  0.49969616,\n",
       "        -1.13219583, -0.05240948],\n",
       "       [ 0.82633705, -0.98651627, -0.88028517, ...,  0.20954964,\n",
       "         0.70727251,  0.28663072],\n",
       "       [-0.65878667,  3.15287695, -0.05703449, ..., -0.16677508,\n",
       "        -0.76644112,  0.02244801]])"
      ]
     },
     "execution_count": 76,
     "metadata": {},
     "output_type": "execute_result"
    }
   ],
   "source": [
    "stock_day_rise = np.random.normal(0, 1, [500, 504])\n",
    "stock_day_rise"
   ]
  },
  {
   "cell_type": "markdown",
   "metadata": {},
   "source": [
    "### 修改数组的形状类型"
   ]
  },
  {
   "cell_type": "code",
   "execution_count": 78,
   "metadata": {},
   "outputs": [
    {
     "data": {
      "text/plain": [
       "(504, 500)"
      ]
     },
     "execution_count": 78,
     "metadata": {},
     "output_type": "execute_result"
    }
   ],
   "source": [
    "# 将原来的行变成列,列变成行,不改变数量\n",
    "stock_day_rise.reshape([504, 500]).shape"
   ]
  },
  {
   "cell_type": "markdown",
   "metadata": {},
   "source": [
    "### 修改原来数组的形状(没有返回值)"
   ]
  },
  {
   "cell_type": "code",
   "execution_count": 80,
   "metadata": {},
   "outputs": [
    {
     "data": {
      "text/plain": [
       "array([[ 1.13685039,  0.80023172, -0.60801559, ..., -0.15762334,\n",
       "         0.74702552,  0.94600069],\n",
       "       [-0.23737832, -0.63075734,  0.97467378, ..., -0.43513204,\n",
       "        -1.50511127, -0.3630082 ],\n",
       "       [-1.98397834,  0.61747381, -1.14861892, ...,  0.66282218,\n",
       "        -0.27307147,  1.23197322],\n",
       "       ...,\n",
       "       [-0.48782253,  1.94412067, -0.35659443, ..., -0.58902842,\n",
       "        -2.01472664, -0.62537206],\n",
       "       [-1.22480549,  1.53161616,  0.88913036, ...,  3.15287695,\n",
       "        -0.05703449,  1.81214556],\n",
       "       [ 0.99729952, -0.34631906, -0.0042827 , ..., -0.16677508,\n",
       "        -0.76644112,  0.02244801]])"
      ]
     },
     "execution_count": 80,
     "metadata": {},
     "output_type": "execute_result"
    }
   ],
   "source": [
    "stock_day_rise.resize([504, 500])\n",
    "stock_day_rise"
   ]
  },
  {
   "cell_type": "markdown",
   "metadata": {},
   "source": [
    "### 修改数据类型"
   ]
  },
  {
   "cell_type": "code",
   "execution_count": 82,
   "metadata": {},
   "outputs": [
    {
     "data": {
      "text/plain": [
       "array([[ 1,  0,  0, ...,  0,  0,  0],\n",
       "       [ 0,  0,  0, ...,  0, -1,  0],\n",
       "       [-1,  0, -1, ...,  0,  0,  1],\n",
       "       ...,\n",
       "       [ 0,  1,  0, ...,  0, -2,  0],\n",
       "       [-1,  1,  0, ...,  3,  0,  1],\n",
       "       [ 0,  0,  0, ...,  0,  0,  0]])"
      ]
     },
     "execution_count": 82,
     "metadata": {},
     "output_type": "execute_result"
    }
   ],
   "source": [
    "stock_day_rise.astype(dtype='int32')\n",
    "# stock_day_rise.astype(np.int32)"
   ]
  },
  {
   "cell_type": "markdown",
   "metadata": {},
   "source": [
    "### 修改精度"
   ]
  },
  {
   "cell_type": "code",
   "execution_count": 93,
   "metadata": {},
   "outputs": [
    {
     "data": {
      "text/plain": [
       "array([ 1.14,  0.8 , -0.61, -1.03, -0.69,  2.1 ,  2.12, -1.22, -2.82,\n",
       "       -0.92,  0.77,  0.06,  1.2 ,  1.03, -0.51, -1.22,  1.04,  0.75,\n",
       "        1.6 , -1.37,  0.24,  0.03, -0.53,  0.82,  0.18, -1.81, -0.39,\n",
       "       -0.6 ,  0.54, -0.18,  0.13,  0.82, -0.88,  0.59,  0.15,  1.87,\n",
       "        0.34,  0.01,  1.8 , -0.85, -1.23, -0.03,  1.01, -0.99, -0.21,\n",
       "       -1.15, -0.42, -0.39,  0.9 ,  0.53, -1.62,  0.97, -0.78, -1.93,\n",
       "       -0.88, -0.55, -0.47,  1.05, -1.5 , -1.34, -0.35, -0.14, -2.42,\n",
       "       -0.06, -0.48, -2.64,  1.24, -0.62, -1.41, -0.2 ,  0.51, -0.63,\n",
       "       -0.5 , -0.08,  2.41,  1.1 , -0.36,  0.3 , -0.17,  0.32, -1.1 ,\n",
       "        1.69,  0.27,  1.29, -1.63,  1.96,  0.  ,  0.66,  0.31,  0.21,\n",
       "       -0.19,  0.66, -0.06, -0.21, -0.14,  0.24,  1.39,  0.92, -1.82,\n",
       "        1.22])"
      ]
     },
     "execution_count": 93,
     "metadata": {},
     "output_type": "execute_result"
    }
   ],
   "source": [
    "np.round(stock_day_rise[0, :100], 2)"
   ]
  },
  {
   "cell_type": "markdown",
   "metadata": {},
   "source": [
    "### 转置"
   ]
  },
  {
   "cell_type": "code",
   "execution_count": 94,
   "metadata": {},
   "outputs": [
    {
     "data": {
      "text/plain": [
       "array([[ 1.13685039, -0.23737832, -1.98397834, ..., -0.48782253,\n",
       "        -1.22480549,  0.99729952],\n",
       "       [ 0.80023172, -0.63075734,  0.61747381, ...,  1.94412067,\n",
       "         1.53161616, -0.34631906],\n",
       "       [-0.60801559,  0.97467378, -1.14861892, ..., -0.35659443,\n",
       "         0.88913036, -0.0042827 ],\n",
       "       ...,\n",
       "       [-0.15762334, -0.43513204,  0.66282218, ..., -0.58902842,\n",
       "         3.15287695, -0.16677508],\n",
       "       [ 0.74702552, -1.50511127, -0.27307147, ..., -2.01472664,\n",
       "        -0.05703449, -0.76644112],\n",
       "       [ 0.94600069, -0.3630082 ,  1.23197322, ..., -0.62537206,\n",
       "         1.81214556,  0.02244801]])"
      ]
     },
     "execution_count": 94,
     "metadata": {},
     "output_type": "execute_result"
    }
   ],
   "source": [
    "# 每个元素的行列位置互换\n",
    "stock_day_rise.T"
   ]
  },
  {
   "cell_type": "code",
   "execution_count": null,
   "metadata": {},
   "outputs": [],
   "source": []
  }
 ],
 "metadata": {
  "kernelspec": {
   "display_name": "Python 3",
   "language": "python",
   "name": "python3"
  },
  "language_info": {
   "codemirror_mode": {
    "name": "ipython",
    "version": 3
   },
   "file_extension": ".py",
   "mimetype": "text/x-python",
   "name": "python",
   "nbconvert_exporter": "python",
   "pygments_lexer": "ipython3",
   "version": "3.6.5"
  }
 },
 "nbformat": 4,
 "nbformat_minor": 2
}
